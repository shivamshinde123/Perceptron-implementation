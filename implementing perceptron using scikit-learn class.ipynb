{
 "cells": [
  {
   "cell_type": "code",
   "execution_count": 1,
   "id": "ddf0b8f2",
   "metadata": {},
   "outputs": [],
   "source": [
    "import numpy as np\n",
    "from sklearn.datasets import load_iris\n",
    "from sklearn.linear_model import Perceptron"
   ]
  },
  {
   "cell_type": "code",
   "execution_count": 2,
   "id": "6991e09a",
   "metadata": {},
   "outputs": [],
   "source": [
    "import warnings\n",
    "warnings.filterwarnings('ignore')"
   ]
  },
  {
   "cell_type": "markdown",
   "id": "21027642",
   "metadata": {},
   "source": [
    "### Implementing perceptron on the linearly separable data"
   ]
  },
  {
   "cell_type": "code",
   "execution_count": 3,
   "id": "4f10c93a",
   "metadata": {},
   "outputs": [],
   "source": [
    "iris = load_iris()\n",
    "X = iris.data[:, (2,3)] ## petal length, petal width\n",
    "y = (iris.target == 0).astype(np.int) ## Iris Setosa?"
   ]
  },
  {
   "cell_type": "code",
   "execution_count": 4,
   "id": "027ba335",
   "metadata": {},
   "outputs": [
    {
     "data": {
      "text/plain": [
       "Text(0.5, 1.0, 'Identifying the Iris Setosa')"
      ]
     },
     "execution_count": 4,
     "metadata": {},
     "output_type": "execute_result"
    },
    {
     "data": {
      "image/png": "[encoded data removed]",
      "text/plain": [
       "<Figure size 432x288 with 1 Axes>"
      ]
     },
     "metadata": {
      "needs_background": "light"
     },
     "output_type": "display_data"
    }
   ],
   "source": [
    "import matplotlib.pyplot as plt\n",
    "plt.plot(X, y, 'mo')\n",
    "plt.xlabel('feature values')\n",
    "plt.ylabel('Iris Setosa or not')\n",
    "plt.title('Identifying the Iris Setosa')"
   ]
  },
  {
   "cell_type": "code",
   "execution_count": 5,
   "id": "23567631",
   "metadata": {},
   "outputs": [
    {
     "data": {
      "text/plain": [
       "Perceptron(early_stopping=True)"
      ]
     },
     "execution_count": 5,
     "metadata": {},
     "output_type": "execute_result"
    }
   ],
   "source": [
    "per_clf = Perceptron(early_stopping=True)\n",
    "per_clf.fit(X, y)"
   ]
  },
  {
   "cell_type": "code",
   "execution_count": 6,
   "id": "d93fb601",
   "metadata": {},
   "outputs": [],
   "source": [
    "predictions = per_clf.predict([[2,0.5]])"
   ]
  },
  {
   "cell_type": "code",
   "execution_count": 7,
   "id": "d1a73acc",
   "metadata": {},
   "outputs": [
    {
     "data": {
      "text/plain": [
       "array([1])"
      ]
     },
     "execution_count": 7,
     "metadata": {},
     "output_type": "execute_result"
    }
   ],
   "source": [
    "predictions"
   ]
  },
  {
   "cell_type": "code",
   "execution_count": 8,
   "id": "415ff79d",
   "metadata": {},
   "outputs": [],
   "source": [
    "predictions2 = per_clf.predict([[3,1]])"
   ]
  },
  {
   "cell_type": "code",
   "execution_count": 9,
   "id": "b5f07a7c",
   "metadata": {},
   "outputs": [
    {
     "data": {
      "text/plain": [
       "array([0])"
      ]
     },
     "execution_count": 9,
     "metadata": {},
     "output_type": "execute_result"
    }
   ],
   "source": [
    "predictions2"
   ]
  },
  {
   "cell_type": "code",
   "execution_count": 10,
   "id": "bdce8151",
   "metadata": {},
   "outputs": [],
   "source": [
    "predictions3 = per_clf.predict([[0.75,0.85]])"
   ]
  },
  {
   "cell_type": "code",
   "execution_count": 11,
   "id": "159dbb5f",
   "metadata": {},
   "outputs": [
    {
     "data": {
      "text/plain": [
       "array([1])"
      ]
     },
     "execution_count": 11,
     "metadata": {},
     "output_type": "execute_result"
    }
   ],
   "source": [
    "predictions3"
   ]
  },
  {
   "cell_type": "markdown",
   "id": "614f84b1",
   "metadata": {},
   "source": [
    "**Perceptron could work properly for this example since the data is linearly separable. Perceptron wouldn't be able to classify properly if the data is non-linearly separable.**"
   ]
  },
  {
   "cell_type": "code",
   "execution_count": null,
   "id": "0949c2d3",
   "metadata": {},
   "outputs": [],
   "source": []
  }
 ],
 "metadata": {
  "kernelspec": {
   "display_name": "Python 3 (ipykernel)",
   "language": "python",
   "name": "python3"
  },
  "language_info": {
   "codemirror_mode": {
    "name": "ipython",
    "version": 3
   },
   "file_extension": ".py",
   "mimetype": "text/x-python",
   "name": "python",
   "nbconvert_exporter": "python",
   "pygments_lexer": "ipython3",
   "version": "3.9.7"
  }
 },
 "nbformat": 4,
 "nbformat_minor": 5
}
